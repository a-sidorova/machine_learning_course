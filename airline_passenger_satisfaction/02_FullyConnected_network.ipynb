{
 "cells": [
  {
   "cell_type": "code",
   "execution_count": 3,
   "id": "f83f6ec9",
   "metadata": {},
   "outputs": [],
   "source": [
    "import numpy as np\n",
    "import matplotlib.pyplot as plt\n",
    "%matplotlib inline \n",
    "import pandas as pd\n",
    "import seaborn as sns\n",
    "import sklearn"
   ]
  },
  {
   "cell_type": "markdown",
   "id": "984796f8",
   "metadata": {},
   "source": [
    "# Описание работы\n",
    "Измерение удовлетворенности клиентов является ключевым фактором для ведения современного бизнеса, поскольку оно может внести значительный вклад в повышение качества обслуживания. Чтобы соответствовать ожиданиям клиентов и достигать более высокого уровня качества, авиакомпаниям необходимо разработать конкретный механизм измерения удовлетворенности использования предоставленных авикомпанией услуг пассажиров. Таким образом, данная работа решает задачу классификацию удовлетворенности клиентов авиакомпаний."
   ]
  },
  {
   "cell_type": "markdown",
   "id": "91fd9732",
   "metadata": {},
   "source": [
    "## 1. Загрузка и чтение данных"
   ]
  },
  {
   "cell_type": "code",
   "execution_count": 4,
   "id": "bb1f4927",
   "metadata": {},
   "outputs": [
    {
     "data": {
      "text/plain": [
       "(129880, 24)"
      ]
     },
     "execution_count": 4,
     "metadata": {},
     "output_type": "execute_result"
    }
   ],
   "source": [
    "url = \"https://github.com/a-sidorova/machine-learning-course/raw/master/airline_passenger_satisfaction.csv\"\n",
    "data_raw = pd.read_csv(url)\n",
    "data_raw.shape"
   ]
  },
  {
   "cell_type": "code",
   "execution_count": 5,
   "id": "0926d792",
   "metadata": {},
   "outputs": [
    {
     "data": {
      "text/plain": [
       "Index(['ID', 'Gender', 'customer_type', 'age', 'type_of_travel',\n",
       "       'customer_class', 'flight_distance', 'inflight_wifi_service',\n",
       "       'departure_arrival_time_convenient', 'ease_of_online_booking',\n",
       "       'gate_location', 'food_and_drink', 'online_boarding', 'seat_comfort',\n",
       "       'inflight_entertainment', 'onboard_service', 'leg_room_service',\n",
       "       'baggage_handling', 'checkin_service', 'inflight_service',\n",
       "       'cleanliness', 'departure_delay_in_minutes', 'arrival_delay_in_minutes',\n",
       "       'satisfaction'],\n",
       "      dtype='object')"
      ]
     },
     "execution_count": 5,
     "metadata": {},
     "output_type": "execute_result"
    }
   ],
   "source": [
    "data_raw.rename(columns={'Unnamed: 0': 'ID'}, inplace=True)\n",
    "data_raw.columns"
   ]
  },
  {
   "cell_type": "markdown",
   "id": "2a7896df",
   "metadata": {},
   "source": [
    "## 2. Подготовка данных"
   ]
  },
  {
   "cell_type": "markdown",
   "id": "44ff57cb",
   "metadata": {},
   "source": [
    "Будем руководствоваться анализом из первой лабораторной работы. Для начала избавимся от категориальных признаков с помощью метода бинаризации"
   ]
  },
  {
   "cell_type": "code",
   "execution_count": 6,
   "id": "eba83399",
   "metadata": {},
   "outputs": [
    {
     "name": "stdout",
     "output_type": "stream",
     "text": [
      "(129880, 25)\n"
     ]
    },
    {
     "data": {
      "text/html": [
       "<div>\n",
       "<style scoped>\n",
       "    .dataframe tbody tr th:only-of-type {\n",
       "        vertical-align: middle;\n",
       "    }\n",
       "\n",
       "    .dataframe tbody tr th {\n",
       "        vertical-align: top;\n",
       "    }\n",
       "\n",
       "    .dataframe thead th {\n",
       "        text-align: right;\n",
       "    }\n",
       "</style>\n",
       "<table border=\"1\" class=\"dataframe\">\n",
       "  <thead>\n",
       "    <tr style=\"text-align: right;\">\n",
       "      <th></th>\n",
       "      <th>ID</th>\n",
       "      <th>age</th>\n",
       "      <th>flight_distance</th>\n",
       "      <th>inflight_wifi_service</th>\n",
       "      <th>departure_arrival_time_convenient</th>\n",
       "      <th>ease_of_online_booking</th>\n",
       "      <th>gate_location</th>\n",
       "      <th>food_and_drink</th>\n",
       "      <th>online_boarding</th>\n",
       "      <th>seat_comfort</th>\n",
       "      <th>...</th>\n",
       "      <th>inflight_service</th>\n",
       "      <th>cleanliness</th>\n",
       "      <th>departure_delay_in_minutes</th>\n",
       "      <th>arrival_delay_in_minutes</th>\n",
       "      <th>Gender_Male</th>\n",
       "      <th>customer_type_disloyal Customer</th>\n",
       "      <th>type_of_travel_Personal Travel</th>\n",
       "      <th>customer_class_Eco</th>\n",
       "      <th>customer_class_Eco Plus</th>\n",
       "      <th>satisfaction_satisfied</th>\n",
       "    </tr>\n",
       "  </thead>\n",
       "  <tbody>\n",
       "    <tr>\n",
       "      <th>0</th>\n",
       "      <td>0</td>\n",
       "      <td>13</td>\n",
       "      <td>460</td>\n",
       "      <td>3</td>\n",
       "      <td>4</td>\n",
       "      <td>3</td>\n",
       "      <td>1</td>\n",
       "      <td>5</td>\n",
       "      <td>3</td>\n",
       "      <td>5</td>\n",
       "      <td>...</td>\n",
       "      <td>5</td>\n",
       "      <td>5</td>\n",
       "      <td>25</td>\n",
       "      <td>18.0</td>\n",
       "      <td>1</td>\n",
       "      <td>0</td>\n",
       "      <td>1</td>\n",
       "      <td>0</td>\n",
       "      <td>1</td>\n",
       "      <td>0</td>\n",
       "    </tr>\n",
       "    <tr>\n",
       "      <th>1</th>\n",
       "      <td>1</td>\n",
       "      <td>25</td>\n",
       "      <td>235</td>\n",
       "      <td>3</td>\n",
       "      <td>2</td>\n",
       "      <td>3</td>\n",
       "      <td>3</td>\n",
       "      <td>1</td>\n",
       "      <td>3</td>\n",
       "      <td>1</td>\n",
       "      <td>...</td>\n",
       "      <td>4</td>\n",
       "      <td>1</td>\n",
       "      <td>1</td>\n",
       "      <td>6.0</td>\n",
       "      <td>1</td>\n",
       "      <td>1</td>\n",
       "      <td>0</td>\n",
       "      <td>0</td>\n",
       "      <td>0</td>\n",
       "      <td>0</td>\n",
       "    </tr>\n",
       "    <tr>\n",
       "      <th>2</th>\n",
       "      <td>2</td>\n",
       "      <td>26</td>\n",
       "      <td>1142</td>\n",
       "      <td>2</td>\n",
       "      <td>2</td>\n",
       "      <td>2</td>\n",
       "      <td>2</td>\n",
       "      <td>5</td>\n",
       "      <td>5</td>\n",
       "      <td>5</td>\n",
       "      <td>...</td>\n",
       "      <td>4</td>\n",
       "      <td>5</td>\n",
       "      <td>0</td>\n",
       "      <td>0.0</td>\n",
       "      <td>0</td>\n",
       "      <td>0</td>\n",
       "      <td>0</td>\n",
       "      <td>0</td>\n",
       "      <td>0</td>\n",
       "      <td>1</td>\n",
       "    </tr>\n",
       "    <tr>\n",
       "      <th>3</th>\n",
       "      <td>3</td>\n",
       "      <td>25</td>\n",
       "      <td>562</td>\n",
       "      <td>2</td>\n",
       "      <td>5</td>\n",
       "      <td>5</td>\n",
       "      <td>5</td>\n",
       "      <td>2</td>\n",
       "      <td>2</td>\n",
       "      <td>2</td>\n",
       "      <td>...</td>\n",
       "      <td>4</td>\n",
       "      <td>2</td>\n",
       "      <td>11</td>\n",
       "      <td>9.0</td>\n",
       "      <td>0</td>\n",
       "      <td>0</td>\n",
       "      <td>0</td>\n",
       "      <td>0</td>\n",
       "      <td>0</td>\n",
       "      <td>0</td>\n",
       "    </tr>\n",
       "    <tr>\n",
       "      <th>4</th>\n",
       "      <td>4</td>\n",
       "      <td>61</td>\n",
       "      <td>214</td>\n",
       "      <td>3</td>\n",
       "      <td>3</td>\n",
       "      <td>3</td>\n",
       "      <td>3</td>\n",
       "      <td>4</td>\n",
       "      <td>5</td>\n",
       "      <td>5</td>\n",
       "      <td>...</td>\n",
       "      <td>3</td>\n",
       "      <td>3</td>\n",
       "      <td>0</td>\n",
       "      <td>0.0</td>\n",
       "      <td>1</td>\n",
       "      <td>0</td>\n",
       "      <td>0</td>\n",
       "      <td>0</td>\n",
       "      <td>0</td>\n",
       "      <td>1</td>\n",
       "    </tr>\n",
       "  </tbody>\n",
       "</table>\n",
       "<p>5 rows × 25 columns</p>\n",
       "</div>"
      ],
      "text/plain": [
       "   ID  age  flight_distance  inflight_wifi_service  \\\n",
       "0   0   13              460                      3   \n",
       "1   1   25              235                      3   \n",
       "2   2   26             1142                      2   \n",
       "3   3   25              562                      2   \n",
       "4   4   61              214                      3   \n",
       "\n",
       "   departure_arrival_time_convenient  ease_of_online_booking  gate_location  \\\n",
       "0                                  4                       3              1   \n",
       "1                                  2                       3              3   \n",
       "2                                  2                       2              2   \n",
       "3                                  5                       5              5   \n",
       "4                                  3                       3              3   \n",
       "\n",
       "   food_and_drink  online_boarding  seat_comfort  ...  inflight_service  \\\n",
       "0               5                3             5  ...                 5   \n",
       "1               1                3             1  ...                 4   \n",
       "2               5                5             5  ...                 4   \n",
       "3               2                2             2  ...                 4   \n",
       "4               4                5             5  ...                 3   \n",
       "\n",
       "   cleanliness  departure_delay_in_minutes  arrival_delay_in_minutes  \\\n",
       "0            5                          25                      18.0   \n",
       "1            1                           1                       6.0   \n",
       "2            5                           0                       0.0   \n",
       "3            2                          11                       9.0   \n",
       "4            3                           0                       0.0   \n",
       "\n",
       "   Gender_Male  customer_type_disloyal Customer  \\\n",
       "0            1                                0   \n",
       "1            1                                1   \n",
       "2            0                                0   \n",
       "3            0                                0   \n",
       "4            1                                0   \n",
       "\n",
       "   type_of_travel_Personal Travel  customer_class_Eco  \\\n",
       "0                               1                   0   \n",
       "1                               0                   0   \n",
       "2                               0                   0   \n",
       "3                               0                   0   \n",
       "4                               0                   0   \n",
       "\n",
       "   customer_class_Eco Plus  satisfaction_satisfied  \n",
       "0                        1                       0  \n",
       "1                        0                       0  \n",
       "2                        0                       1  \n",
       "3                        0                       0  \n",
       "4                        0                       1  \n",
       "\n",
       "[5 rows x 25 columns]"
      ]
     },
     "execution_count": 6,
     "metadata": {},
     "output_type": "execute_result"
    }
   ],
   "source": [
    "data_raw['Gender'] = data_raw['Gender'].astype('category')\n",
    "data_raw['customer_type'] = data_raw['customer_type'].astype('category')\n",
    "data_raw['type_of_travel'] = data_raw['type_of_travel'].astype('category')\n",
    "data_raw['customer_class'] = data_raw['customer_class'].astype('category')\n",
    "data_raw['satisfaction'] = data_raw['satisfaction'].astype('category')\n",
    "\n",
    "data_raw = pd.get_dummies(data_raw, drop_first=True)\n",
    "print(data_raw.shape)\n",
    "data_raw.head()"
   ]
  },
  {
   "cell_type": "markdown",
   "id": "0306ecb0",
   "metadata": {},
   "source": [
    "Как было замечено в предыдущей работе, признак \"arrival_delay_in_minutes\" имеет 393 пропущенных значений. Это 0.3% от всех данных, что достаточно мало. В принципе можно удалить из набора данных те строки, в которых присутствуют пропущенные значения."
   ]
  },
  {
   "cell_type": "code",
   "execution_count": 7,
   "id": "4e2284eb",
   "metadata": {},
   "outputs": [
    {
     "name": "stdout",
     "output_type": "stream",
     "text": [
      "(129487, 25)\n"
     ]
    },
    {
     "data": {
      "text/plain": [
       "ID                                   0\n",
       "age                                  0\n",
       "flight_distance                      0\n",
       "inflight_wifi_service                0\n",
       "departure_arrival_time_convenient    0\n",
       "ease_of_online_booking               0\n",
       "gate_location                        0\n",
       "food_and_drink                       0\n",
       "online_boarding                      0\n",
       "seat_comfort                         0\n",
       "inflight_entertainment               0\n",
       "onboard_service                      0\n",
       "leg_room_service                     0\n",
       "baggage_handling                     0\n",
       "checkin_service                      0\n",
       "inflight_service                     0\n",
       "cleanliness                          0\n",
       "departure_delay_in_minutes           0\n",
       "arrival_delay_in_minutes             0\n",
       "Gender_Male                          0\n",
       "customer_type_disloyal Customer      0\n",
       "type_of_travel_Personal Travel       0\n",
       "customer_class_Eco                   0\n",
       "customer_class_Eco Plus              0\n",
       "satisfaction_satisfied               0\n",
       "dtype: int64"
      ]
     },
     "execution_count": 7,
     "metadata": {},
     "output_type": "execute_result"
    }
   ],
   "source": [
    "data_raw.dropna(axis=0, how='all', subset=['arrival_delay_in_minutes'], inplace=True)\n",
    "print(data_raw.shape)\n",
    "data_raw.isna().sum()"
   ]
  },
  {
   "cell_type": "markdown",
   "id": "e690d7db",
   "metadata": {},
   "source": [
    "Проведем нормализацию количественных признаков"
   ]
  },
  {
   "cell_type": "code",
   "execution_count": 8,
   "id": "f1b9840f",
   "metadata": {},
   "outputs": [
    {
     "data": {
      "text/html": [
       "<div>\n",
       "<style scoped>\n",
       "    .dataframe tbody tr th:only-of-type {\n",
       "        vertical-align: middle;\n",
       "    }\n",
       "\n",
       "    .dataframe tbody tr th {\n",
       "        vertical-align: top;\n",
       "    }\n",
       "\n",
       "    .dataframe thead th {\n",
       "        text-align: right;\n",
       "    }\n",
       "</style>\n",
       "<table border=\"1\" class=\"dataframe\">\n",
       "  <thead>\n",
       "    <tr style=\"text-align: right;\">\n",
       "      <th></th>\n",
       "      <th>ID</th>\n",
       "      <th>age</th>\n",
       "      <th>flight_distance</th>\n",
       "      <th>inflight_wifi_service</th>\n",
       "      <th>departure_arrival_time_convenient</th>\n",
       "      <th>ease_of_online_booking</th>\n",
       "      <th>gate_location</th>\n",
       "      <th>food_and_drink</th>\n",
       "      <th>online_boarding</th>\n",
       "      <th>seat_comfort</th>\n",
       "      <th>...</th>\n",
       "      <th>inflight_service</th>\n",
       "      <th>cleanliness</th>\n",
       "      <th>departure_delay_in_minutes</th>\n",
       "      <th>arrival_delay_in_minutes</th>\n",
       "      <th>Gender_Male</th>\n",
       "      <th>customer_type_disloyal Customer</th>\n",
       "      <th>type_of_travel_Personal Travel</th>\n",
       "      <th>customer_class_Eco</th>\n",
       "      <th>customer_class_Eco Plus</th>\n",
       "      <th>satisfaction_satisfied</th>\n",
       "    </tr>\n",
       "  </thead>\n",
       "  <tbody>\n",
       "    <tr>\n",
       "      <th>count</th>\n",
       "      <td>129487.000000</td>\n",
       "      <td>129487.000000</td>\n",
       "      <td>129487.000000</td>\n",
       "      <td>129487.000000</td>\n",
       "      <td>129487.000000</td>\n",
       "      <td>129487.000000</td>\n",
       "      <td>129487.000000</td>\n",
       "      <td>129487.000000</td>\n",
       "      <td>129487.000000</td>\n",
       "      <td>129487.000000</td>\n",
       "      <td>...</td>\n",
       "      <td>129487.000000</td>\n",
       "      <td>129487.000000</td>\n",
       "      <td>129487.000000</td>\n",
       "      <td>129487.000000</td>\n",
       "      <td>129487.000000</td>\n",
       "      <td>129487.000000</td>\n",
       "      <td>129487.000000</td>\n",
       "      <td>129487.000000</td>\n",
       "      <td>129487.000000</td>\n",
       "      <td>129487.000000</td>\n",
       "    </tr>\n",
       "    <tr>\n",
       "      <th>mean</th>\n",
       "      <td>0.499975</td>\n",
       "      <td>0.415753</td>\n",
       "      <td>0.234089</td>\n",
       "      <td>0.545709</td>\n",
       "      <td>0.611470</td>\n",
       "      <td>0.551357</td>\n",
       "      <td>0.595382</td>\n",
       "      <td>0.640937</td>\n",
       "      <td>0.650544</td>\n",
       "      <td>0.688318</td>\n",
       "      <td>...</td>\n",
       "      <td>0.728475</td>\n",
       "      <td>0.657244</td>\n",
       "      <td>0.009198</td>\n",
       "      <td>0.009527</td>\n",
       "      <td>0.492590</td>\n",
       "      <td>0.183138</td>\n",
       "      <td>0.309236</td>\n",
       "      <td>0.448825</td>\n",
       "      <td>0.072440</td>\n",
       "      <td>0.434499</td>\n",
       "    </tr>\n",
       "    <tr>\n",
       "      <th>std</th>\n",
       "      <td>0.288693</td>\n",
       "      <td>0.193815</td>\n",
       "      <td>0.201446</td>\n",
       "      <td>0.265847</td>\n",
       "      <td>0.305357</td>\n",
       "      <td>0.280332</td>\n",
       "      <td>0.255701</td>\n",
       "      <td>0.265981</td>\n",
       "      <td>0.270130</td>\n",
       "      <td>0.263834</td>\n",
       "      <td>...</td>\n",
       "      <td>0.235323</td>\n",
       "      <td>0.262725</td>\n",
       "      <td>0.023827</td>\n",
       "      <td>0.024284</td>\n",
       "      <td>0.499947</td>\n",
       "      <td>0.386781</td>\n",
       "      <td>0.462180</td>\n",
       "      <td>0.497376</td>\n",
       "      <td>0.259216</td>\n",
       "      <td>0.495693</td>\n",
       "    </tr>\n",
       "    <tr>\n",
       "      <th>min</th>\n",
       "      <td>0.000000</td>\n",
       "      <td>0.000000</td>\n",
       "      <td>0.000000</td>\n",
       "      <td>0.000000</td>\n",
       "      <td>0.000000</td>\n",
       "      <td>0.000000</td>\n",
       "      <td>0.000000</td>\n",
       "      <td>0.000000</td>\n",
       "      <td>0.000000</td>\n",
       "      <td>0.000000</td>\n",
       "      <td>...</td>\n",
       "      <td>0.000000</td>\n",
       "      <td>0.000000</td>\n",
       "      <td>0.000000</td>\n",
       "      <td>0.000000</td>\n",
       "      <td>0.000000</td>\n",
       "      <td>0.000000</td>\n",
       "      <td>0.000000</td>\n",
       "      <td>0.000000</td>\n",
       "      <td>0.000000</td>\n",
       "      <td>0.000000</td>\n",
       "    </tr>\n",
       "    <tr>\n",
       "      <th>25%</th>\n",
       "      <td>0.249890</td>\n",
       "      <td>0.256410</td>\n",
       "      <td>0.077342</td>\n",
       "      <td>0.400000</td>\n",
       "      <td>0.400000</td>\n",
       "      <td>0.400000</td>\n",
       "      <td>0.400000</td>\n",
       "      <td>0.400000</td>\n",
       "      <td>0.400000</td>\n",
       "      <td>0.400000</td>\n",
       "      <td>...</td>\n",
       "      <td>0.600000</td>\n",
       "      <td>0.400000</td>\n",
       "      <td>0.000000</td>\n",
       "      <td>0.000000</td>\n",
       "      <td>0.000000</td>\n",
       "      <td>0.000000</td>\n",
       "      <td>0.000000</td>\n",
       "      <td>0.000000</td>\n",
       "      <td>0.000000</td>\n",
       "      <td>0.000000</td>\n",
       "    </tr>\n",
       "    <tr>\n",
       "      <th>50%</th>\n",
       "      <td>0.499988</td>\n",
       "      <td>0.423077</td>\n",
       "      <td>0.164176</td>\n",
       "      <td>0.600000</td>\n",
       "      <td>0.600000</td>\n",
       "      <td>0.600000</td>\n",
       "      <td>0.600000</td>\n",
       "      <td>0.600000</td>\n",
       "      <td>0.600000</td>\n",
       "      <td>0.800000</td>\n",
       "      <td>...</td>\n",
       "      <td>0.800000</td>\n",
       "      <td>0.600000</td>\n",
       "      <td>0.000000</td>\n",
       "      <td>0.000000</td>\n",
       "      <td>0.000000</td>\n",
       "      <td>0.000000</td>\n",
       "      <td>0.000000</td>\n",
       "      <td>0.000000</td>\n",
       "      <td>0.000000</td>\n",
       "      <td>0.000000</td>\n",
       "    </tr>\n",
       "    <tr>\n",
       "      <th>75%</th>\n",
       "      <td>0.749994</td>\n",
       "      <td>0.564103</td>\n",
       "      <td>0.345921</td>\n",
       "      <td>0.800000</td>\n",
       "      <td>0.800000</td>\n",
       "      <td>0.800000</td>\n",
       "      <td>0.800000</td>\n",
       "      <td>0.800000</td>\n",
       "      <td>0.800000</td>\n",
       "      <td>1.000000</td>\n",
       "      <td>...</td>\n",
       "      <td>1.000000</td>\n",
       "      <td>0.800000</td>\n",
       "      <td>0.007538</td>\n",
       "      <td>0.008207</td>\n",
       "      <td>1.000000</td>\n",
       "      <td>0.000000</td>\n",
       "      <td>1.000000</td>\n",
       "      <td>1.000000</td>\n",
       "      <td>0.000000</td>\n",
       "      <td>1.000000</td>\n",
       "    </tr>\n",
       "    <tr>\n",
       "      <th>max</th>\n",
       "      <td>1.000000</td>\n",
       "      <td>1.000000</td>\n",
       "      <td>1.000000</td>\n",
       "      <td>1.000000</td>\n",
       "      <td>1.000000</td>\n",
       "      <td>1.000000</td>\n",
       "      <td>1.000000</td>\n",
       "      <td>1.000000</td>\n",
       "      <td>1.000000</td>\n",
       "      <td>1.000000</td>\n",
       "      <td>...</td>\n",
       "      <td>1.000000</td>\n",
       "      <td>1.000000</td>\n",
       "      <td>1.000000</td>\n",
       "      <td>1.000000</td>\n",
       "      <td>1.000000</td>\n",
       "      <td>1.000000</td>\n",
       "      <td>1.000000</td>\n",
       "      <td>1.000000</td>\n",
       "      <td>1.000000</td>\n",
       "      <td>1.000000</td>\n",
       "    </tr>\n",
       "  </tbody>\n",
       "</table>\n",
       "<p>8 rows × 25 columns</p>\n",
       "</div>"
      ],
      "text/plain": [
       "                  ID            age  flight_distance  inflight_wifi_service  \\\n",
       "count  129487.000000  129487.000000    129487.000000          129487.000000   \n",
       "mean        0.499975       0.415753         0.234089               0.545709   \n",
       "std         0.288693       0.193815         0.201446               0.265847   \n",
       "min         0.000000       0.000000         0.000000               0.000000   \n",
       "25%         0.249890       0.256410         0.077342               0.400000   \n",
       "50%         0.499988       0.423077         0.164176               0.600000   \n",
       "75%         0.749994       0.564103         0.345921               0.800000   \n",
       "max         1.000000       1.000000         1.000000               1.000000   \n",
       "\n",
       "       departure_arrival_time_convenient  ease_of_online_booking  \\\n",
       "count                      129487.000000           129487.000000   \n",
       "mean                            0.611470                0.551357   \n",
       "std                             0.305357                0.280332   \n",
       "min                             0.000000                0.000000   \n",
       "25%                             0.400000                0.400000   \n",
       "50%                             0.600000                0.600000   \n",
       "75%                             0.800000                0.800000   \n",
       "max                             1.000000                1.000000   \n",
       "\n",
       "       gate_location  food_and_drink  online_boarding   seat_comfort  ...  \\\n",
       "count  129487.000000   129487.000000    129487.000000  129487.000000  ...   \n",
       "mean        0.595382        0.640937         0.650544       0.688318  ...   \n",
       "std         0.255701        0.265981         0.270130       0.263834  ...   \n",
       "min         0.000000        0.000000         0.000000       0.000000  ...   \n",
       "25%         0.400000        0.400000         0.400000       0.400000  ...   \n",
       "50%         0.600000        0.600000         0.600000       0.800000  ...   \n",
       "75%         0.800000        0.800000         0.800000       1.000000  ...   \n",
       "max         1.000000        1.000000         1.000000       1.000000  ...   \n",
       "\n",
       "       inflight_service    cleanliness  departure_delay_in_minutes  \\\n",
       "count     129487.000000  129487.000000               129487.000000   \n",
       "mean           0.728475       0.657244                    0.009198   \n",
       "std            0.235323       0.262725                    0.023827   \n",
       "min            0.000000       0.000000                    0.000000   \n",
       "25%            0.600000       0.400000                    0.000000   \n",
       "50%            0.800000       0.600000                    0.000000   \n",
       "75%            1.000000       0.800000                    0.007538   \n",
       "max            1.000000       1.000000                    1.000000   \n",
       "\n",
       "       arrival_delay_in_minutes    Gender_Male  \\\n",
       "count             129487.000000  129487.000000   \n",
       "mean                   0.009527       0.492590   \n",
       "std                    0.024284       0.499947   \n",
       "min                    0.000000       0.000000   \n",
       "25%                    0.000000       0.000000   \n",
       "50%                    0.000000       0.000000   \n",
       "75%                    0.008207       1.000000   \n",
       "max                    1.000000       1.000000   \n",
       "\n",
       "       customer_type_disloyal Customer  type_of_travel_Personal Travel  \\\n",
       "count                    129487.000000                   129487.000000   \n",
       "mean                          0.183138                        0.309236   \n",
       "std                           0.386781                        0.462180   \n",
       "min                           0.000000                        0.000000   \n",
       "25%                           0.000000                        0.000000   \n",
       "50%                           0.000000                        0.000000   \n",
       "75%                           0.000000                        1.000000   \n",
       "max                           1.000000                        1.000000   \n",
       "\n",
       "       customer_class_Eco  customer_class_Eco Plus  satisfaction_satisfied  \n",
       "count       129487.000000            129487.000000           129487.000000  \n",
       "mean             0.448825                 0.072440                0.434499  \n",
       "std              0.497376                 0.259216                0.495693  \n",
       "min              0.000000                 0.000000                0.000000  \n",
       "25%              0.000000                 0.000000                0.000000  \n",
       "50%              0.000000                 0.000000                0.000000  \n",
       "75%              1.000000                 0.000000                1.000000  \n",
       "max              1.000000                 1.000000                1.000000  \n",
       "\n",
       "[8 rows x 25 columns]"
      ]
     },
     "execution_count": 8,
     "metadata": {},
     "output_type": "execute_result"
    }
   ],
   "source": [
    "data_normal = (data_raw - data_raw.min(axis=0)) / (data_raw.max(axis=0) - data_raw.min(axis=0))\n",
    "data_normal.describe()"
   ]
  },
  {
   "cell_type": "markdown",
   "id": "5851f519",
   "metadata": {},
   "source": [
    "## 3. Выбор тестовой и обучающей выборки"
   ]
  },
  {
   "cell_type": "code",
   "execution_count": 9,
   "id": "53881991",
   "metadata": {},
   "outputs": [
    {
     "name": "stdout",
     "output_type": "stream",
     "text": [
      "(129487, 23)\n",
      "(129487,)\n"
     ]
    }
   ],
   "source": [
    "X = data_normal.drop(['ID', 'satisfaction_satisfied'], axis=1) \n",
    "y = data_normal['satisfaction_satisfied']\n",
    "\n",
    "print(X.shape)\n",
    "print(y.shape)"
   ]
  },
  {
   "cell_type": "markdown",
   "id": "edd4702f",
   "metadata": {},
   "source": [
    "Разобьем данные на обучающую (66%) и тестовую (33%) выборки:"
   ]
  },
  {
   "cell_type": "code",
   "execution_count": 10,
   "id": "783da3cc",
   "metadata": {},
   "outputs": [
    {
     "data": {
      "text/plain": [
       "(86756, 42731)"
      ]
     },
     "execution_count": 10,
     "metadata": {},
     "output_type": "execute_result"
    }
   ],
   "source": [
    "from sklearn.model_selection import train_test_split\n",
    "X_train, X_test, y_train, y_test = train_test_split(X, y, test_size = 0.33, random_state = 42)\n",
    "\n",
    "N_train, _ = X_train.shape \n",
    "N_test,  _ = X_test.shape \n",
    "\n",
    "N_train, N_test"
   ]
  },
  {
   "cell_type": "markdown",
   "id": "aa36dd3e",
   "metadata": {},
   "source": [
    "## 4. Подбор гиперпараметров"
   ]
  },
  {
   "cell_type": "markdown",
   "id": "7fe14c4f",
   "metadata": {},
   "source": [
    "В качестве *solver* выберем наиболее популярный и эффективный алгоритм Адам\n",
    "\n",
    "В качестве функции активации выберем Relu\n",
    "\n",
    "В качетве метрики оценки классификатора возьмем обычный accuracy_score, поскольку у нас 2 класса и классы сбалансированы."
   ]
  },
  {
   "cell_type": "code",
   "execution_count": 11,
   "id": "2fb12a8b",
   "metadata": {},
   "outputs": [],
   "source": [
    "from sklearn.neural_network import MLPClassifier\n",
    "from sklearn.metrics import accuracy_score\n",
    "from tqdm import tqdm"
   ]
  },
  {
   "cell_type": "markdown",
   "id": "cccd40b0",
   "metadata": {},
   "source": [
    "### 4.1 Подбор количества нейронов в однослойной сети"
   ]
  },
  {
   "cell_type": "code",
   "execution_count": 12,
   "id": "422803dc",
   "metadata": {},
   "outputs": [
    {
     "name": "stderr",
     "output_type": "stream",
     "text": [
      "100%|██████████████████████████████████████████████████████████████████████████████████| 50/50 [40:34<00:00, 48.70s/it]\n"
     ]
    }
   ],
   "source": [
    "hidden_layer_size = np.linspace(1, 50, 50)\n",
    "hidden_layer_size = hidden_layer_size.astype(int)\n",
    "test_err, train_err = [], []\n",
    "train_acc, test_acc = [], []\n",
    "\n",
    "for size in tqdm(hidden_layer_size):\n",
    "    model = MLPClassifier(hidden_layer_sizes=(size,), \n",
    "                          solver='adam', activation='relu', max_iter=1000, random_state=13)\n",
    "    model.fit(X_train, y_train)\n",
    "\n",
    "    y_train_pred = model.predict(X_train)\n",
    "    y_test_pred = model.predict(X_test)\n",
    "    \n",
    "    train_err.append(np.mean(y_train != y_train_pred))\n",
    "    test_err.append(np.mean(y_test != y_test_pred))\n",
    "    \n",
    "    train_acc.append(accuracy_score(y_train, y_train_pred))\n",
    "    test_acc.append(accuracy_score(y_test, y_test_pred))"
   ]
  },
  {
   "cell_type": "code",
   "execution_count": 13,
   "id": "35bc6b7b",
   "metadata": {},
   "outputs": [
    {
     "name": "stdout",
     "output_type": "stream",
     "text": [
      "Train: Min error=0.03706948222601319, number of neurons=46\n",
      "Test: Min error=0.04130490744424423, number of neurons=42\n"
     ]
    },
    {
     "data": {
      "image/png": "[encoded data removed]",
      "text/plain": [
       "<Figure size 432x288 with 1 Axes>"
      ]
     },
     "metadata": {
      "needs_background": "light"
     },
     "output_type": "display_data"
    }
   ],
   "source": [
    "plt.plot(hidden_layer_size, train_err, 'b-o', label = 'train')\n",
    "plt.plot(hidden_layer_size, test_err, 'r-o', label = 'test')\n",
    "plt.xlim([np.min(hidden_layer_size), np.max(hidden_layer_size)])\n",
    "plt.title('Error is as a function of hidden_layer_size')\n",
    "plt.xlabel('hidden_layer_size')\n",
    "plt.ylabel('error')\n",
    "plt.legend()\n",
    "\n",
    "print(\"Train: Min error={0}, number of neurons={1}\".format(np.min(train_err), hidden_layer_size[np.argmin(train_err)]))\n",
    "print(\"Test: Min error={0}, number of neurons={1}\".format(np.min(test_err), hidden_layer_size[np.argmin(test_err)]))"
   ]
  },
  {
   "cell_type": "code",
   "execution_count": 14,
   "id": "0141f392",
   "metadata": {},
   "outputs": [
    {
     "name": "stdout",
     "output_type": "stream",
     "text": [
      "Train: max accuracy=0.9629305177739869, number of neurons=46\n",
      "Test: max accuracy=0.9586950925557558, number of neurons=42\n"
     ]
    },
    {
     "data": {
      "image/png": "[encoded data removed]",
      "text/plain": [
       "<Figure size 432x288 with 1 Axes>"
      ]
     },
     "metadata": {
      "needs_background": "light"
     },
     "output_type": "display_data"
    }
   ],
   "source": [
    "plt.plot(hidden_layer_size, train_acc, 'r-o', label = 'train')\n",
    "plt.plot(hidden_layer_size, test_acc, 'b-o', label = 'test')\n",
    "plt.xlim([np.min(hidden_layer_size), np.max(hidden_layer_size)])\n",
    "plt.title('Accuracy is a function of hidden_layer_size')\n",
    "plt.xlabel('hidden_layer_size')\n",
    "plt.ylabel('Accuracy')\n",
    "plt.legend()\n",
    "\n",
    "print(\"Train: max accuracy={0}, number of neurons={1}\".format(np.max(train_acc), hidden_layer_size[np.argmax(train_acc)]))\n",
    "print(\"Test: max accuracy={0}, number of neurons={1}\".format(np.max(test_acc), hidden_layer_size[np.argmax(test_acc)]))"
   ]
  },
  {
   "cell_type": "markdown",
   "id": "8ee876fd",
   "metadata": {},
   "source": [
    "### 4.2 Подбор количества нейронов в двуслойной сети"
   ]
  },
  {
   "cell_type": "code",
   "execution_count": 17,
   "id": "80cfd3b6",
   "metadata": {},
   "outputs": [
    {
     "name": "stderr",
     "output_type": "stream",
     "text": [
      "10it [2:02:52, 737.24s/it] \n"
     ]
    }
   ],
   "source": [
    "n = 10\n",
    "sizes = np.linspace(1, 50, n).astype(int)\n",
    "test_err = np.zeros((n, n))\n",
    "train_err = np.zeros((n, n))\n",
    "train_acc = np.zeros((n, n))\n",
    "test_acc = np.zeros((n, n))\n",
    "\n",
    "for i, size_1 in tqdm(enumerate(sizes)):\n",
    "    for j, size_2 in enumerate(sizes):\n",
    "        model = MLPClassifier(hidden_layer_sizes=(size_1, size_2, ), \n",
    "                              solver='adam', activation='relu', max_iter=1000, random_state=13)\n",
    "        model.fit(X_train, y_train)\n",
    "\n",
    "        y_train_pred = model.predict(X_train)\n",
    "        y_test_pred = model.predict(X_test)\n",
    "\n",
    "        train_err[i][j] = np.mean(y_train != y_train_pred)\n",
    "        test_err[i][j] = np.mean(y_test != y_test_pred)\n",
    "\n",
    "        train_acc[i][j] = accuracy_score(y_train, y_train_pred)\n",
    "        test_acc[i][j] = accuracy_score(y_test, y_test_pred)"
   ]
  },
  {
   "cell_type": "code",
   "execution_count": 32,
   "id": "02ae018b",
   "metadata": {},
   "outputs": [
    {
     "name": "stdout",
     "output_type": "stream",
     "text": [
      "Train: Min error=0.03187099451334778, number of neurons=45,25\n",
      "Test: error=0.040064590110224424, number of neurons=45,25\n",
      "\n",
      "Test: Min error=0.0385668484238609, number of neurons=35,10\n",
      "Train: error=0.035236755959242014, number of neurons=35,10\n",
      "\n"
     ]
    },
    {
     "data": {
      "image/png": "[encoded data removed]",
      "text/plain": [
       "<Figure size 432x288 with 3 Axes>"
      ]
     },
     "metadata": {
      "needs_background": "light"
     },
     "output_type": "display_data"
    }
   ],
   "source": [
    "plt.subplot(121)\n",
    "plt.title(\"Train error\")\n",
    "plt.imshow(train_err)\n",
    "plt.xticks(np.arange(n), np.arange(1, 50, 50 / n))\n",
    "plt.yticks(np.arange(n), np.arange(1, 50, 50 / n))\n",
    "\n",
    "plt.subplot(122)\n",
    "plt.title(\"Test error\")\n",
    "plt.imshow(test_err)\n",
    "plt.xticks(np.arange(n), np.arange(1, 50, 50 / n))\n",
    "plt.yticks(np.arange(n), np.arange(1, 50, 50 / n))\n",
    "\n",
    "cax = plt.axes([0.96, 0.15, 0.02, 0.7])\n",
    "plt.colorbar(cax=cax)\n",
    "\n",
    "train_min_loss = np.where(train_err == np.min(train_err))\n",
    "test_min_loss = np.where(test_err == np.min(test_err))\n",
    "\n",
    "train_min_loss_sizes = [train_min_loss[0][0] * 5, train_min_loss[1][0] * 5]\n",
    "test_min_loss_sizes = [test_min_loss[0][0] * 5, test_min_loss[1][0] * 5]\n",
    "\n",
    "print(\"Train: Min error={0}, number of neurons={1},{2}\".format(np.min(train_err), train_min_loss_sizes[0], train_min_loss_sizes[1]))\n",
    "print(\"Test: error={0}, number of neurons={1},{2}\\n\".format(test_err[train_min_loss][0], train_min_loss_sizes[0], train_min_loss_sizes[1]))\n",
    "print(\"Test: Min error={0}, number of neurons={1},{2}\".format(np.min(test_err), test_min_loss_sizes[0], test_min_loss_sizes[1]))\n",
    "print(\"Train: error={0}, number of neurons={1},{2}\\n\".format(train_err[test_min_loss][0], test_min_loss_sizes[0], test_min_loss_sizes[1]))"
   ]
  },
  {
   "cell_type": "code",
   "execution_count": 35,
   "id": "48d771e9",
   "metadata": {},
   "outputs": [
    {
     "name": "stdout",
     "output_type": "stream",
     "text": [
      "Train: Max accuracy=0.9681290054866523, number of neurons=45,25\n",
      "Test: accuracy=0.9599354098897755, number of neurons=45,25\n",
      "\n",
      "Test: Max accuracy=0.9614331515761391, number of neurons=35,10\n",
      "Train: accuracy=0.964763244040758, number of neurons=35,10\n",
      "\n"
     ]
    },
    {
     "data": {
      "image/png": "[encoded data removed]",
      "text/plain": [
       "<Figure size 432x288 with 3 Axes>"
      ]
     },
     "metadata": {
      "needs_background": "light"
     },
     "output_type": "display_data"
    }
   ],
   "source": [
    "plt.subplot(121)\n",
    "plt.title(\"Train accuracy\")\n",
    "plt.imshow(train_acc)\n",
    "plt.xticks(np.arange(n), np.arange(1, 50, 50 / n))\n",
    "plt.yticks(np.arange(n), np.arange(1, 50, 50 / n))\n",
    "\n",
    "plt.subplot(122)\n",
    "plt.title(\"Test accuracy\")\n",
    "plt.imshow(test_acc)\n",
    "plt.xticks(np.arange(n), np.arange(1, 50, 50 / n))\n",
    "plt.yticks(np.arange(n), np.arange(1, 50, 50 / n))\n",
    "\n",
    "cax = plt.axes([0.95, 0.15, 0.02, 0.7])\n",
    "plt.colorbar(cax=cax)\n",
    "\n",
    "train_max_acc = np.where(train_acc == np.max(train_acc))\n",
    "test_max_acc = np.where(test_acc == np.max(test_acc))\n",
    "\n",
    "train_max_acc_sizes = [train_max_acc[0][0] * 5, train_max_acc[1][0] * 5]\n",
    "test_max_acc_sizes = [test_max_acc[0][0] * 5, test_max_acc[1][0] * 5]\n",
    "\n",
    "print(\"Train: Max accuracy={0}, number of neurons={1},{2}\".format(np.max(train_acc), train_max_acc_sizes[0], train_max_acc_sizes[1]))\n",
    "print(\"Test: accuracy={0}, number of neurons={1},{2}\\n\".format(test_acc[train_max_acc][0], train_max_acc_sizes[0], train_max_acc_sizes[1]))\n",
    "print(\"Test: Max accuracy={0}, number of neurons={1},{2}\".format(np.max(test_acc), test_max_acc_sizes[0], test_max_acc_sizes[1]))\n",
    "print(\"Train: accuracy={0}, number of neurons={1},{2}\\n\".format(train_acc[test_max_acc][0], test_max_acc_sizes[0], test_max_acc_sizes[1]))"
   ]
  },
  {
   "cell_type": "markdown",
   "id": "9e1f9641",
   "metadata": {},
   "source": [
    "Построим для лучшего варианта (сеть из 2х слоев: 35,10) матрицу рассогласования."
   ]
  },
  {
   "cell_type": "code",
   "execution_count": 12,
   "id": "17344b79",
   "metadata": {},
   "outputs": [],
   "source": [
    "model = MLPClassifier(hidden_layer_sizes=(35, 10, ), \n",
    "                      solver='adam', activation='relu', max_iter=1000, random_state=13)\n",
    "model.fit(X_train, y_train)\n",
    "\n",
    "y_test_pred = model.predict(X_test)"
   ]
  },
  {
   "cell_type": "code",
   "execution_count": 15,
   "id": "fcf29c3d",
   "metadata": {},
   "outputs": [
    {
     "data": {
      "text/plain": [
       "<sklearn.metrics._plot.confusion_matrix.ConfusionMatrixDisplay at 0x1b8776b50b8>"
      ]
     },
     "execution_count": 15,
     "metadata": {},
     "output_type": "execute_result"
    },
    {
     "data": {
      "image/png": "[encoded data removed]",
      "text/plain": [
       "<Figure size 432x288 with 2 Axes>"
      ]
     },
     "metadata": {
      "needs_background": "light"
     },
     "output_type": "display_data"
    }
   ],
   "source": [
    "from sklearn.metrics import plot_confusion_matrix\n",
    "plot_confusion_matrix(model, X_test, y_test) "
   ]
  },
  {
   "cell_type": "markdown",
   "id": "44b87335",
   "metadata": {},
   "source": [
    "### 4.3 Подбор параметра регуляризации"
   ]
  },
  {
   "cell_type": "markdown",
   "id": "49c0d432",
   "metadata": {},
   "source": [
    "Лучшие показатели подемонстрировала сеть из 2х слоев, причем при количесте нейронов (35,10), следовательно подбирать параметра _alpha_ будем для нее. Уточним, что переобучение или недообучение не прослеживаются, но тем не менее для чистоты эксперимента попробуем рассмотреть подбор параметра"
   ]
  },
  {
   "cell_type": "code",
   "execution_count": 36,
   "id": "54c3d38b",
   "metadata": {},
   "outputs": [
    {
     "name": "stderr",
     "output_type": "stream",
     "text": [
      "100%|██████████████████████████████████████████████████████████████████████████████████| 50/50 [26:45<00:00, 32.11s/it]\n"
     ]
    }
   ],
   "source": [
    "alphas = np.logspace(-5, 5, 50)\n",
    "test_err, train_err = [], []\n",
    "train_acc, test_acc = [], []\n",
    "\n",
    "\n",
    "for alpha in tqdm(alphas):\n",
    "    mlp_model = MLPClassifier(alpha = alpha, hidden_layer_sizes = (35,10,), \n",
    "                              solver='adam', activation='relu', max_iter=1000, random_state=13)\n",
    "    \n",
    "    mlp_model.fit(X_train, y_train)\n",
    "\n",
    "    y_train_pred = mlp_model.predict(X_train)\n",
    "    y_test_pred = mlp_model.predict(X_test)\n",
    "    \n",
    "    train_err.append(np.mean(y_train != y_train_pred))\n",
    "    test_err.append(np.mean(y_test != y_test_pred))\n",
    "    \n",
    "    train_acc.append(accuracy_score(y_train, y_train_pred))\n",
    "    test_acc.append(accuracy_score(y_test, y_test_pred))"
   ]
  },
  {
   "cell_type": "code",
   "execution_count": 37,
   "id": "4d2af635",
   "metadata": {},
   "outputs": [
    {
     "data": {
      "text/plain": [
       "<matplotlib.legend.Legend at 0x23fa5b41550>"
      ]
     },
     "execution_count": 37,
     "metadata": {},
     "output_type": "execute_result"
    },
    {
     "data": {
      "image/png": "[encoded data removed]",
      "text/plain": [
       "<Figure size 432x288 with 1 Axes>"
      ]
     },
     "metadata": {
      "needs_background": "light"
     },
     "output_type": "display_data"
    }
   ],
   "source": [
    "plt.semilogx(alphas, train_err, 'b-o', label = 'train')\n",
    "plt.semilogx(alphas, test_err, 'r-o', label = 'test')\n",
    "plt.xlim([np.min(alphas), np.max(alphas)])\n",
    "plt.title('Error is as a function of alpha')\n",
    "plt.xlabel('alpha')\n",
    "plt.ylabel('error')\n",
    "plt.legend()"
   ]
  },
  {
   "cell_type": "code",
   "execution_count": 40,
   "id": "ddd7313a",
   "metadata": {},
   "outputs": [
    {
     "data": {
      "text/plain": [
       "<matplotlib.legend.Legend at 0x23fa5796208>"
      ]
     },
     "execution_count": 40,
     "metadata": {},
     "output_type": "execute_result"
    },
    {
     "data": {
      "image/png": "[encoded data removed]",
      "text/plain": [
       "<Figure size 432x288 with 1 Axes>"
      ]
     },
     "metadata": {
      "needs_background": "light"
     },
     "output_type": "display_data"
    }
   ],
   "source": [
    "plt.semilogx(alphas, train_acc, 'b-o', label = 'train')\n",
    "plt.semilogx(alphas, test_acc, 'r-o', label = 'test')\n",
    "plt.xlim([np.min(alphas), np.max(alphas)])\n",
    "plt.title('Accuracy is as a function of alpha')\n",
    "plt.xlabel('alpha')\n",
    "plt.ylabel('error')\n",
    "plt.legend()"
   ]
  },
  {
   "cell_type": "markdown",
   "id": "81f2184c",
   "metadata": {},
   "source": [
    "## 5. Выводы"
   ]
  },
  {
   "cell_type": "markdown",
   "id": "fec8571b",
   "metadata": {},
   "source": [
    "### 5.1 Подбор числа нейронов в однослойном моделе\n",
    "- Практически полное совпадение графиков Error/Accuracy для train/test говорит об почти одинаковом распределении тренировочных и тестовых данных.\n",
    "- Переобучения и недобучения нет, что свидетельствует о том, что в модели нет высоких весовых значений и модель достаточно простая, чтобы уметь обощаться, но в то же время и достаточно сложная, чтобы решать поставленную задачу.\n",
    "- За оптимальный размер скрытого слоя возьмем минимум ошибки и максимум accuracy на тестовой выборке 95.8% - 42 нейрона.\n",
    "- При количестве нейронов в слое больше 2 мы уже достигаем точность больше 92%, что говорит о том, что Все входные обЪекты, которые описываются 16 признаками, могут быть спроецированы в двумерное пространство и разделены на классы с высокой точностью 92%"
   ]
  },
  {
   "cell_type": "markdown",
   "id": "2a517953",
   "metadata": {},
   "source": [
    "### 5.2 Подбор числа нейронов в двуслойной моделе\n",
    "- Переобучения и недобучения также необнаружено\n",
    "- За оптимальные размеры скрытых слоев возьмем минимум ошибки и максимум accuracy на тестовой выборке 96.4% - 35 и 10 нейронов.\n",
    "- Заметим, что количество нейронов увеличилось больше, чем в 10 раз, а точность при этом увеличилась лишь на 0.6%. Таким образом, можно в принципе для данной задачи использовать однослойную сеть из 42 нейронов и получать хорошую точность (accuracy). Однако, если те самые 0.6% важны и количество параметров наоборот не так важно, то можно остановиться на двуслойной сети."
   ]
  },
  {
   "cell_type": "markdown",
   "id": "ffd96b6e",
   "metadata": {},
   "source": [
    "### 5.3 Подбор параметра регуляризации\n",
    "- Заметим, что с ростом коэффициента регуляризации растет ошибка и падает accuracy, что говорит о том, что после обучения у модели не возникает больших значения весовых коэффициентов, а значит нет переобучения у модели.\n",
    "- При _lambda_ > 10e-1 начинается рост ошибки и снижение accuracy. То есть с ростом _lamda_ уменьшаются веса модели и стремятся к нулю"
   ]
  }
 ],
 "metadata": {
  "kernelspec": {
   "display_name": "Python 3 (ipykernel)",
   "language": "python",
   "name": "python3"
  },
  "language_info": {
   "codemirror_mode": {
    "name": "ipython",
    "version": 3
   },
   "file_extension": ".py",
   "mimetype": "text/x-python",
   "name": "python",
   "nbconvert_exporter": "python",
   "pygments_lexer": "ipython3",
   "version": "3.7.0"
  }
 },
 "nbformat": 4,
 "nbformat_minor": 5
}
